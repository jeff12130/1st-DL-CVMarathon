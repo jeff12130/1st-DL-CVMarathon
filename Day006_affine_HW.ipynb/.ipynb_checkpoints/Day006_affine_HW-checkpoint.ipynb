{
 "cells": [
  {
   "cell_type": "code",
   "execution_count": 1,
   "metadata": {},
   "outputs": [],
   "source": [
    "import cv2\n",
    "import time\n",
    "import numpy as np\n",
    "\n",
    "img = cv2.imread('.\\lena.png')"
   ]
  },
  {
   "cell_type": "code",
   "execution_count": 2,
   "metadata": {},
   "outputs": [
    {
     "name": "stdout",
     "output_type": "stream",
     "text": [
      "Rotation Matrix\n",
      "[[  0.35355339   0.35355339  74.98066402]\n",
      " [ -0.35355339   0.35355339 256.        ]]\n",
      "\n",
      "Translation Matrix\n",
      "[[  1.   0. 100.]\n",
      " [  0.   1. -50.]]\n",
      "\n",
      "Rotation Matrix from cv2.getAffineTransform\n",
      "[[  0.35351562   0.35351562  75.        ]\n",
      " [ -0.35351562   0.35351562 256.        ]]\n",
      "\n",
      "Translation Matrix from cv2.getAffineTransform\n",
      "[[ 1.00000000e+00  9.90192933e-17  1.00000000e+02]\n",
      " [-3.25191183e-17  1.00000000e+00 -5.00000000e+01]]\n"
     ]
    }
   ],
   "source": [
    "rows, cols = img.shape[:2]\n",
    "\n",
    "# 取得旋轉矩陣\n",
    "# getRotationMatrix2D(center, angle, scale)\n",
    "M_rotate = cv2.getRotationMatrix2D((cols//2, rows//2), 45, 0.5)\n",
    "print('Rotation Matrix')\n",
    "print(M_rotate)\n",
    "print()\n",
    "\n",
    "# 取得平移矩陣\n",
    "M_translate = np.array([[1, 0, 100], [0, 1, -50]], dtype=np.float32)\n",
    "print('Translation Matrix')\n",
    "print(M_translate)\n",
    "\n",
    "# 旋轉\n",
    "img_rotate = cv2.warpAffine(img, M_rotate, (cols, rows))\n",
    "\n",
    "# 平移\n",
    "img_rotate_trans = cv2.warpAffine(img_rotate, M_translate, (cols, rows))\n",
    "\n",
    "\n",
    "\n",
    "#將算出的值(原本的值與變化後的值)帶入程式\n",
    "pts1 = np.float32([[0,0],[0,512],[512,512]])\n",
    "pts2 = np.float32([[75,256],[256,437],[437,256]])\n",
    "\n",
    "a = cv2.getAffineTransform(pts1,pts2)\n",
    "print()\n",
    "print('Rotation Matrix from cv2.getAffineTransform')\n",
    "print(a)\n",
    "\n",
    "\n",
    "pts3 = np.float32([[75,256],[256,437],[437,256]])\n",
    "pts4 = np.float32([[175,206],[356,387],[537,206]])\n",
    "\n",
    "a = cv2.getAffineTransform(pts3,pts4)\n",
    "print()\n",
    "print('Translation Matrix from cv2.getAffineTransform')\n",
    "print(a)\n",
    "\n",
    "\n",
    "# 組合 + 顯示圖片\n",
    "img_show_rotate_trans = np.hstack((img, img_rotate, img_rotate_trans))\n",
    "while True:\n",
    "    cv2.imshow('Rotate 45, scale 0.5, Translate x+100, y-50', img_show_rotate_trans)\n",
    "    k = cv2.waitKey(0)\n",
    "    if k == 27:\n",
    "        cv2.destroyAllWindows()\n",
    "        break"
   ]
  },
  {
   "cell_type": "code",
   "execution_count": null,
   "metadata": {},
   "outputs": [],
   "source": []
  }
 ],
 "metadata": {
  "kernelspec": {
   "display_name": "Python 3",
   "language": "python",
   "name": "python3"
  },
  "language_info": {
   "codemirror_mode": {
    "name": "ipython",
    "version": 3
   },
   "file_extension": ".py",
   "mimetype": "text/x-python",
   "name": "python",
   "nbconvert_exporter": "python",
   "pygments_lexer": "ipython3",
   "version": "3.7.0"
  }
 },
 "nbformat": 4,
 "nbformat_minor": 2
}

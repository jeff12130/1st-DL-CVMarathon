{
 "cells": [
  {
   "cell_type": "code",
   "execution_count": 5,
   "metadata": {},
   "outputs": [],
   "source": [
    "import cv2\n",
    "import numpy as np\n",
    "\n",
    "img = cv2.imread('.\\lena.png')"
   ]
  },
  {
   "cell_type": "code",
   "execution_count": 11,
   "metadata": {},
   "outputs": [
    {
     "name": "stdout",
     "output_type": "stream",
     "text": [
      "(x1,x2)=(226,20) (x2,x2)=(46,255)\n"
     ]
    }
   ],
   "source": [
    "img_hw = img.copy()\n",
    "img_text = img.copy()\n",
    "origin_point1 = (60, 40)\n",
    "origin_point2 = (420, 510)\n",
    "fx=0.5\n",
    "fy=0.5\n",
    "\n",
    "\n",
    "x1=int((512-60)*fx)\n",
    "y1=int(40*fy)\n",
    "x2=int((512-420)*fx)\n",
    "y2=int(510*fy)\n",
    "\n",
    "point1=(x1,y1)\n",
    "point2=(x2,y2)\n",
    "\n",
    "\n",
    "cv2.putText(img_text, '(60, 40)', (60, 40), 0, 1, (0, 0, 255), 2)\n",
    "cv2.putText(img_text, '(420, 510)', (420, 510), 0, 1, (0, 0, 255), 2)\n",
    "\n",
    "\n",
    "\"\"\"\n",
    "對明亮度做直方圖均衡\n",
    "\"\"\"\n",
    "# 原始 BGR 圖片轉 HSV 圖片\n",
    "img_hw = cv2.cvtColor(img_hw, cv2.COLOR_BGR2HSV)\n",
    "\n",
    "# 對明亮度做直方圖均衡 -> 對 HSV 的 V 做直方圖均衡\n",
    "img_hw[..., -1] = cv2.equalizeHist(img_hw[..., -1])\n",
    "\n",
    "# 將圖片轉回 BGR\n",
    "img_hw = cv2.cvtColor(img_hw, cv2.COLOR_HSV2BGR)\n",
    "\n",
    "\"\"\"\n",
    "畫出人物矩形邊框\n",
    "\"\"\"\n",
    "cv2.rectangle(img_text, (60, 40), (420, 510), (0, 0, 255), 3)\n",
    "cv2.rectangle(img_hw, origin_point1, origin_point2, (0, 0, 255), 3)\n",
    "\n",
    "\n",
    "\"\"\"\n",
    "水平鏡像 + 縮放處理 (0.5 倍)\n",
    "\"\"\"\n",
    "# 水平鏡像 (圖片)\n",
    "img_hw = img_hw[:, ::-1, :]\n",
    "\n",
    "# 縮放處理\n",
    "img_hw = cv2.resize(img_hw, None, fx=0.5, fy=0.5, interpolation=cv2.INTER_LINEAR)\n",
    "\n",
    "\n",
    "\n",
    "cv2.putText(img_hw, '(x1,y1)', (x1,y1),  0, 1, (0, 0, 255), 2)\n",
    "cv2.putText(img_hw, '(x2,y2)', (x2,y2), 0, 1, (0, 0, 255), 2)\n",
    "\n",
    "\n",
    "location1='(x1,x2)=({},{})' .format(x1,y1)\n",
    "location2='(x2,x2)=({},{})' .format(x2,y2)\n",
    "print(location1 , location2)\n",
    "while True:\n",
    "    cv2.imshow('image', img_text)\n",
    "    k = cv2.waitKey(0)\n",
    "    if k == 27:\n",
    "        cv2.destroyAllWindows()\n",
    "        break\n",
    "\n",
    "\n",
    "while True:\n",
    "    cv2.imshow('image', img_hw)\n",
    "    k = cv2.waitKey(0)\n",
    "    if k == 27:\n",
    "        cv2.destroyAllWindows()\n",
    "        break"
   ]
  },
  {
   "cell_type": "code",
   "execution_count": null,
   "metadata": {},
   "outputs": [],
   "source": []
  },
  {
   "cell_type": "code",
   "execution_count": null,
   "metadata": {},
   "outputs": [],
   "source": []
  }
 ],
 "metadata": {
  "kernelspec": {
   "display_name": "Python 3",
   "language": "python",
   "name": "python3"
  },
  "language_info": {
   "codemirror_mode": {
    "name": "ipython",
    "version": 3
   },
   "file_extension": ".py",
   "mimetype": "text/x-python",
   "name": "python",
   "nbconvert_exporter": "python",
   "pygments_lexer": "ipython3",
   "version": "3.7.0"
  }
 },
 "nbformat": 4,
 "nbformat_minor": 2
}

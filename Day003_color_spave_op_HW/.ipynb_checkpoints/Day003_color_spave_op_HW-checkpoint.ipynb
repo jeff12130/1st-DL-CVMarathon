{
 "cells": [
  {
   "cell_type": "code",
   "execution_count": 21,
   "metadata": {},
   "outputs": [],
   "source": [
    "import cv2\n",
    "import numpy as np\n",
    "\n",
    "img_path = '.\\maxresdefault.jpg'\n",
    "img = cv2.imread(img_path, cv2.IMREAD_COLOR)"
   ]
  },
  {
   "cell_type": "code",
   "execution_count": 22,
   "metadata": {},
   "outputs": [],
   "source": [
    "img_hls = cv2.cvtColor(img, cv2.COLOR_BGR2HLS)\n",
    "change_percentage = 0.3\n",
    "\n",
    "img_hls_down = img_hls.astype('float32')\n",
    "img_hls_down[..., -1] = img_hls_down[..., -1]/255 - change_percentage\n",
    "img_hls_down[img_hls_down[..., -1] < 0] = 0\n",
    "img_hls_down[..., -1] = img_hls_down[..., -1]*255\n",
    "img_hls_down = img_hls_down.astype('uint8')\n",
    "\n",
    "img_hls_up = img_hls.astype('float32')\n",
    "img_hls_up[..., -1] = img_hls_up[..., -1]/255 + change_percentage\n",
    "img_hls_up[img_hls_up[..., -1] > 1] = 1\n",
    "img_hls_up[..., -1] = img_hls_up[..., -1]*255\n",
    "img_hls_up = img_hls_up.astype('uint8')\n",
    "\n",
    "img_hls_down = cv2.cvtColor(img_hls_down, cv2.COLOR_HLS2BGR)\n",
    "img_hls_up = cv2.cvtColor(img_hls_up, cv2.COLOR_HLS2BGR)\n",
    "\n",
    "\n",
    "img_hls_change = np.hstack((img, img_hls_down, img_hls_up))\n",
    "while True:\n",
    "    cv2.imshow('change saturation', img_hls_change)\n",
    "    \n",
    "    k = cv2.waitKey(0)\n",
    "    if k == 27:\n",
    "        cv2.destroyAllWindows()\n",
    "        break"
   ]
  },
  {
   "cell_type": "code",
   "execution_count": 24,
   "metadata": {},
   "outputs": [],
   "source": [
    "\n",
    "img_gray = cv2.cvtColor(img, cv2.COLOR_BGR2GRAY)\n",
    "\n",
    "\n",
    "img_gray_equal = cv2.equalizeHist(img_gray)\n",
    "\n",
    "\n",
    "img_gray_equalHist = np.hstack((img_gray, img_gray_equal))\n",
    "while True:\n",
    "   \n",
    "    cv2.imshow('gray equal histogram', img_gray_equalHist)\n",
    "\n",
    "    k = cv2.waitKey(0)\n",
    "    if k == 27:\n",
    "        cv2.destroyAllWindows()\n",
    "        break"
   ]
  },
  {
   "cell_type": "code",
   "execution_count": 25,
   "metadata": {},
   "outputs": [],
   "source": [
    "\n",
    "add_contrast = cv2.convertScaleAbs(img, alpha=2.0, beta=0)\n",
    "add_lighness = cv2.convertScaleAbs(img, alpha=1.0, beta=50)\n",
    "\n",
    "\n",
    "img_contrast_light = np.hstack((img, add_contrast, add_lighness))\n",
    "while True:\n",
    "\n",
    "    cv2.imshow('adjust contrast and brighness', img_contrast_light)\n",
    "    k = cv2.waitKey(0)\n",
    "    if k == 27:\n",
    "        cv2.destroyAllWindows()\n",
    "        break"
   ]
  },
  {
   "cell_type": "code",
   "execution_count": null,
   "metadata": {},
   "outputs": [],
   "source": []
  }
 ],
 "metadata": {
  "kernelspec": {
   "display_name": "Python 3",
   "language": "python",
   "name": "python3"
  },
  "language_info": {
   "codemirror_mode": {
    "name": "ipython",
    "version": 3
   },
   "file_extension": ".py",
   "mimetype": "text/x-python",
   "name": "python",
   "nbconvert_exporter": "python",
   "pygments_lexer": "ipython3",
   "version": "3.7.0"
  }
 },
 "nbformat": 4,
 "nbformat_minor": 2
}
